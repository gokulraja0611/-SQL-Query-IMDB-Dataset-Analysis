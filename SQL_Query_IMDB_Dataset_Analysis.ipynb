{
  "nbformat": 4,
  "nbformat_minor": 0,
  "metadata": {
    "colab": {
      "name": " SQL Query IMDB Dataset Analysis.ipynb",
      "provenance": [],
      "collapsed_sections": []
    },
    "kernelspec": {
      "name": "python3",
      "display_name": "Python 3"
    },
    "language_info": {
      "name": "python"
    }
  },
  "cells": [
    {
      "cell_type": "markdown",
      "metadata": {
        "id": "8FWpE3Jo_Lrf"
      },
      "source": [
        "# Importing the libraries"
      ]
    },
    {
      "cell_type": "code",
      "metadata": {
        "id": "umNUfpSL_P4E"
      },
      "source": [
        "# NumPy -> To perform the Mathematical operations\n",
        "import numpy as np\n",
        "\n",
        "# Pandas -> Data Manipulation tool\n",
        "import pandas as pd\n",
        "\n",
        "# Matplotlib -> Data Visualisation tool\n",
        "import matplotlib.pyplot as plt\n",
        "\n",
        "# Seaborn -> Data Visualisation tool\n",
        "import seaborn as sns\n",
        "\n",
        "# SQLite -> Server-less Database\n",
        "import sqlite3"
      ],
      "execution_count": null,
      "outputs": []
    },
    {
      "cell_type": "markdown",
      "metadata": {
        "id": "MCjhmBc5AIXm"
      },
      "source": [
        "# Hints & Tips"
      ]
    },
    {
      "cell_type": "markdown",
      "metadata": {
        "id": "_HDVGf75BkI3"
      },
      "source": [
        "1. Establishing the connection to the database"
      ]
    },
    {
      "cell_type": "code",
      "metadata": {
        "id": "LMrcTqTN6QkQ"
      },
      "source": [
        "db = '/content/drive/MyDrive/Datasets/movies.sqlite'\n",
        "conn = sqlite3.connect(db)\n",
        "cur = conn.cursor()"
      ],
      "execution_count": null,
      "outputs": []
    },
    {
      "cell_type": "markdown",
      "metadata": {
        "id": "npefQUIWDDtC"
      },
      "source": [
        "2. Get all the data about movies"
      ]
    },
    {
      "cell_type": "code",
      "metadata": {
        "id": "jEo2DZDe6Qm7"
      },
      "source": [
        "# Fetching the data of the Movies table from the Database\n",
        "cur.execute(\"SELECT * FROM movies\")\n",
        "# Creating the cursor object\n",
        "movies = cur.fetchall()"
      ],
      "execution_count": null,
      "outputs": []
    },
    {
      "cell_type": "code",
      "metadata": {
        "id": "3Jz814ER6Qv3"
      },
      "source": [
        "# Creating a DataFrame\n",
        "movies = pd.DataFrame(movies,columns=['id', 'original_title', 'budget', 'popularity',\n",
        "                                  'release_date', 'revenue', 'title', 'vote_average',\n",
        "                                  'vote_count', 'overview', 'tagline','uid',\n",
        "                                  'director_id'] )"
      ],
      "execution_count": null,
      "outputs": []
    },
    {
      "cell_type": "code",
      "metadata": {
        "colab": {
          "base_uri": "https://localhost:8080/",
          "height": 1000
        },
        "id": "tO7PfBpP6QzI",
        "outputId": "c663bdeb-cded-47de-ca90-7dcd228387fc"
      },
      "source": [
        "# Displaying the DataFrame\n",
        "movies"
      ],
      "execution_count": null,
      "outputs": [
        {
          "output_type": "execute_result",
          "data": {
            "text/html": [
              "<div>\n",
              "<style scoped>\n",
              "    .dataframe tbody tr th:only-of-type {\n",
              "        vertical-align: middle;\n",
              "    }\n",
              "\n",
              "    .dataframe tbody tr th {\n",
              "        vertical-align: top;\n",
              "    }\n",
              "\n",
              "    .dataframe thead th {\n",
              "        text-align: right;\n",
              "    }\n",
              "</style>\n",
              "<table border=\"1\" class=\"dataframe\">\n",
              "  <thead>\n",
              "    <tr style=\"text-align: right;\">\n",
              "      <th></th>\n",
              "      <th>id</th>\n",
              "      <th>Original_title</th>\n",
              "      <th>Budget</th>\n",
              "      <th>Popularity</th>\n",
              "      <th>Release_date</th>\n",
              "      <th>Revenue</th>\n",
              "      <th>Title</th>\n",
              "      <th>Avg_ratings</th>\n",
              "      <th>Rating_count</th>\n",
              "      <th>Overview</th>\n",
              "      <th>Tagline</th>\n",
              "      <th>uid</th>\n",
              "      <th>director_id</th>\n",
              "    </tr>\n",
              "  </thead>\n",
              "  <tbody>\n",
              "    <tr>\n",
              "      <th>0</th>\n",
              "      <td>43597</td>\n",
              "      <td>Avatar</td>\n",
              "      <td>237000000</td>\n",
              "      <td>150</td>\n",
              "      <td>2009-12-10</td>\n",
              "      <td>2787965087</td>\n",
              "      <td>Avatar</td>\n",
              "      <td>7.2</td>\n",
              "      <td>11800</td>\n",
              "      <td>In the 22nd century, a paraplegic Marine is di...</td>\n",
              "      <td>Enter the World of Pandora.</td>\n",
              "      <td>NaN</td>\n",
              "      <td>4762</td>\n",
              "    </tr>\n",
              "    <tr>\n",
              "      <th>1</th>\n",
              "      <td>43598</td>\n",
              "      <td>Pirates of the Caribbean: At World's End</td>\n",
              "      <td>300000000</td>\n",
              "      <td>139</td>\n",
              "      <td>2007-05-19</td>\n",
              "      <td>961000000</td>\n",
              "      <td>Pirates of the Caribbean: At World's End</td>\n",
              "      <td>6.9</td>\n",
              "      <td>4500</td>\n",
              "      <td>Captain Barbossa, long believed to be dead, ha...</td>\n",
              "      <td>At the end of the world, the adventure begins.</td>\n",
              "      <td>NaN</td>\n",
              "      <td>4763</td>\n",
              "    </tr>\n",
              "    <tr>\n",
              "      <th>2</th>\n",
              "      <td>43599</td>\n",
              "      <td>Spectre</td>\n",
              "      <td>245000000</td>\n",
              "      <td>107</td>\n",
              "      <td>2015-10-26</td>\n",
              "      <td>880674609</td>\n",
              "      <td>Spectre</td>\n",
              "      <td>6.3</td>\n",
              "      <td>4466</td>\n",
              "      <td>A cryptic message from Bond’s past sends him o...</td>\n",
              "      <td>A Plan No One Escapes</td>\n",
              "      <td>NaN</td>\n",
              "      <td>4764</td>\n",
              "    </tr>\n",
              "    <tr>\n",
              "      <th>3</th>\n",
              "      <td>43600</td>\n",
              "      <td>The Dark Knight Rises</td>\n",
              "      <td>250000000</td>\n",
              "      <td>112</td>\n",
              "      <td>2012-07-16</td>\n",
              "      <td>1084939099</td>\n",
              "      <td>The Dark Knight Rises</td>\n",
              "      <td>7.6</td>\n",
              "      <td>9106</td>\n",
              "      <td>Following the death of District Attorney Harve...</td>\n",
              "      <td>The Legend Ends</td>\n",
              "      <td>NaN</td>\n",
              "      <td>4765</td>\n",
              "    </tr>\n",
              "    <tr>\n",
              "      <th>4</th>\n",
              "      <td>43601</td>\n",
              "      <td>John Carter</td>\n",
              "      <td>260000000</td>\n",
              "      <td>43</td>\n",
              "      <td>2012-03-07</td>\n",
              "      <td>284139100</td>\n",
              "      <td>John Carter</td>\n",
              "      <td>6.1</td>\n",
              "      <td>2124</td>\n",
              "      <td>John Carter is a war-weary, former military ca...</td>\n",
              "      <td>Lost in our world, found in another.</td>\n",
              "      <td>NaN</td>\n",
              "      <td>4766</td>\n",
              "    </tr>\n",
              "    <tr>\n",
              "      <th>...</th>\n",
              "      <td>...</td>\n",
              "      <td>...</td>\n",
              "      <td>...</td>\n",
              "      <td>...</td>\n",
              "      <td>...</td>\n",
              "      <td>...</td>\n",
              "      <td>...</td>\n",
              "      <td>...</td>\n",
              "      <td>...</td>\n",
              "      <td>...</td>\n",
              "      <td>...</td>\n",
              "      <td>...</td>\n",
              "      <td>...</td>\n",
              "    </tr>\n",
              "    <tr>\n",
              "      <th>4768</th>\n",
              "      <td>48395</td>\n",
              "      <td>El Mariachi</td>\n",
              "      <td>220000</td>\n",
              "      <td>14</td>\n",
              "      <td>1992-09-04</td>\n",
              "      <td>2040920</td>\n",
              "      <td>El Mariachi</td>\n",
              "      <td>6.6</td>\n",
              "      <td>238</td>\n",
              "      <td>El Mariachi just wants to play his guitar and ...</td>\n",
              "      <td>He didn't come looking for trouble, but troubl...</td>\n",
              "      <td>NaN</td>\n",
              "      <td>5097</td>\n",
              "    </tr>\n",
              "    <tr>\n",
              "      <th>4769</th>\n",
              "      <td>48396</td>\n",
              "      <td>Newlyweds</td>\n",
              "      <td>9000</td>\n",
              "      <td>0</td>\n",
              "      <td>2011-12-26</td>\n",
              "      <td>0</td>\n",
              "      <td>Newlyweds</td>\n",
              "      <td>5.9</td>\n",
              "      <td>5</td>\n",
              "      <td>A newlywed couple's honeymoon is upended by th...</td>\n",
              "      <td>A newlywed couple's honeymoon is upended by th...</td>\n",
              "      <td>NaN</td>\n",
              "      <td>6485</td>\n",
              "    </tr>\n",
              "    <tr>\n",
              "      <th>4770</th>\n",
              "      <td>48397</td>\n",
              "      <td>Signed, Sealed, Delivered</td>\n",
              "      <td>0</td>\n",
              "      <td>1</td>\n",
              "      <td>2013-10-13</td>\n",
              "      <td>0</td>\n",
              "      <td>Signed, Sealed, Delivered</td>\n",
              "      <td>7.0</td>\n",
              "      <td>6</td>\n",
              "      <td>\"Signed, Sealed, Delivered\" introduces a dedic...</td>\n",
              "      <td>None</td>\n",
              "      <td>NaN</td>\n",
              "      <td>7108</td>\n",
              "    </tr>\n",
              "    <tr>\n",
              "      <th>4771</th>\n",
              "      <td>48398</td>\n",
              "      <td>Shanghai Calling</td>\n",
              "      <td>0</td>\n",
              "      <td>0</td>\n",
              "      <td>2012-05-03</td>\n",
              "      <td>0</td>\n",
              "      <td>Shanghai Calling</td>\n",
              "      <td>5.7</td>\n",
              "      <td>7</td>\n",
              "      <td>When ambitious New York attorney Sam is sent t...</td>\n",
              "      <td>A New Yorker in Shanghai</td>\n",
              "      <td>NaN</td>\n",
              "      <td>7109</td>\n",
              "    </tr>\n",
              "    <tr>\n",
              "      <th>4772</th>\n",
              "      <td>48399</td>\n",
              "      <td>My Date with Drew</td>\n",
              "      <td>0</td>\n",
              "      <td>1</td>\n",
              "      <td>2005-08-05</td>\n",
              "      <td>0</td>\n",
              "      <td>My Date with Drew</td>\n",
              "      <td>6.3</td>\n",
              "      <td>16</td>\n",
              "      <td>Ever since the second grade when he first saw ...</td>\n",
              "      <td>None</td>\n",
              "      <td>NaN</td>\n",
              "      <td>7110</td>\n",
              "    </tr>\n",
              "  </tbody>\n",
              "</table>\n",
              "<p>4773 rows × 13 columns</p>\n",
              "</div>"
            ],
            "text/plain": [
              "         id                            Original_title  ...  uid  director_id\n",
              "0     43597                                    Avatar  ...  NaN         4762\n",
              "1     43598  Pirates of the Caribbean: At World's End  ...  NaN         4763\n",
              "2     43599                                   Spectre  ...  NaN         4764\n",
              "3     43600                     The Dark Knight Rises  ...  NaN         4765\n",
              "4     43601                               John Carter  ...  NaN         4766\n",
              "...     ...                                       ...  ...  ...          ...\n",
              "4768  48395                               El Mariachi  ...  NaN         5097\n",
              "4769  48396                                 Newlyweds  ...  NaN         6485\n",
              "4770  48397                 Signed, Sealed, Delivered  ...  NaN         7108\n",
              "4771  48398                          Shanghai Calling  ...  NaN         7109\n",
              "4772  48399                         My Date with Drew  ...  NaN         7110\n",
              "\n",
              "[4773 rows x 13 columns]"
            ]
          },
          "metadata": {
            "tags": []
          },
          "execution_count": 38
        }
      ]
    },
    {
      "cell_type": "code",
      "metadata": {
        "colab": {
          "base_uri": "https://localhost:8080/"
        },
        "id": "ahKnxe6J6Q2N",
        "outputId": "5f2648ef-425d-482a-b641-7c5e22d981a3"
      },
      "source": [
        "df.info()"
      ],
      "execution_count": null,
      "outputs": [
        {
          "output_type": "stream",
          "text": [
            "<class 'pandas.core.frame.DataFrame'>\n",
            "RangeIndex: 4773 entries, 0 to 4772\n",
            "Data columns (total 13 columns):\n",
            " #   Column          Non-Null Count  Dtype  \n",
            "---  ------          --------------  -----  \n",
            " 0   id              4773 non-null   int64  \n",
            " 1   Original_title  4773 non-null   object \n",
            " 2   Budget          4773 non-null   int64  \n",
            " 3   Popularity      4773 non-null   int64  \n",
            " 4   Release_date    4773 non-null   object \n",
            " 5   Revenue         4773 non-null   int64  \n",
            " 6   Title           4773 non-null   object \n",
            " 7   Avg_ratings     4773 non-null   float64\n",
            " 8   Rating_count    4773 non-null   int64  \n",
            " 9   Overview        4770 non-null   object \n",
            " 10  Tagline         3951 non-null   object \n",
            " 11  UID             4773 non-null   int64  \n",
            " 12  director_id     4773 non-null   int64  \n",
            "dtypes: float64(1), int64(7), object(5)\n",
            "memory usage: 484.9+ KB\n"
          ],
          "name": "stdout"
        }
      ]
    },
    {
      "cell_type": "markdown",
      "metadata": {
        "id": "oiEh8rhLHkJ5"
      },
      "source": [
        "3. Get all the data about directors"
      ]
    },
    {
      "cell_type": "code",
      "metadata": {
        "id": "xSiNNeRL6Q5U"
      },
      "source": [
        "# Fetching the data of the Director table from the Database\n",
        "cur.execute(\"SELECT * FROM directors\")\n",
        "# Creating the cursor object\n",
        "directors = cur.fetchall()"
      ],
      "execution_count": null,
      "outputs": []
    },
    {
      "cell_type": "code",
      "metadata": {
        "id": "TgaPimcG6Q76"
      },
      "source": [
        "directors"
      ],
      "execution_count": null,
      "outputs": []
    },
    {
      "cell_type": "code",
      "metadata": {
        "id": "wfSTNSX06RAT"
      },
      "source": [
        "directors = pd.DataFrame(directors,columns=['name', 'id', 'gender', 'uid',\n",
        "                                  'department'] )"
      ],
      "execution_count": null,
      "outputs": []
    },
    {
      "cell_type": "code",
      "metadata": {
        "colab": {
          "base_uri": "https://localhost:8080/",
          "height": 421
        },
        "id": "-DL04yNd6RCO",
        "outputId": "0b5b3696-0367-4ca6-ced1-bce31711325e"
      },
      "source": [
        "directors"
      ],
      "execution_count": null,
      "outputs": [
        {
          "output_type": "execute_result",
          "data": {
            "text/html": [
              "<div>\n",
              "<style scoped>\n",
              "    .dataframe tbody tr th:only-of-type {\n",
              "        vertical-align: middle;\n",
              "    }\n",
              "\n",
              "    .dataframe tbody tr th {\n",
              "        vertical-align: top;\n",
              "    }\n",
              "\n",
              "    .dataframe thead th {\n",
              "        text-align: right;\n",
              "    }\n",
              "</style>\n",
              "<table border=\"1\" class=\"dataframe\">\n",
              "  <thead>\n",
              "    <tr style=\"text-align: right;\">\n",
              "      <th></th>\n",
              "      <th>name</th>\n",
              "      <th>id</th>\n",
              "      <th>gender</th>\n",
              "      <th>uid</th>\n",
              "      <th>department</th>\n",
              "    </tr>\n",
              "  </thead>\n",
              "  <tbody>\n",
              "    <tr>\n",
              "      <th>0</th>\n",
              "      <td>James Cameron</td>\n",
              "      <td>4762</td>\n",
              "      <td>2</td>\n",
              "      <td>2710</td>\n",
              "      <td>Directing</td>\n",
              "    </tr>\n",
              "    <tr>\n",
              "      <th>1</th>\n",
              "      <td>Gore Verbinski</td>\n",
              "      <td>4763</td>\n",
              "      <td>2</td>\n",
              "      <td>1704</td>\n",
              "      <td>Directing</td>\n",
              "    </tr>\n",
              "    <tr>\n",
              "      <th>2</th>\n",
              "      <td>Sam Mendes</td>\n",
              "      <td>4764</td>\n",
              "      <td>2</td>\n",
              "      <td>39</td>\n",
              "      <td>Directing</td>\n",
              "    </tr>\n",
              "    <tr>\n",
              "      <th>3</th>\n",
              "      <td>Christopher Nolan</td>\n",
              "      <td>4765</td>\n",
              "      <td>2</td>\n",
              "      <td>525</td>\n",
              "      <td>Directing</td>\n",
              "    </tr>\n",
              "    <tr>\n",
              "      <th>4</th>\n",
              "      <td>Andrew Stanton</td>\n",
              "      <td>4766</td>\n",
              "      <td>2</td>\n",
              "      <td>7</td>\n",
              "      <td>Directing</td>\n",
              "    </tr>\n",
              "    <tr>\n",
              "      <th>...</th>\n",
              "      <td>...</td>\n",
              "      <td>...</td>\n",
              "      <td>...</td>\n",
              "      <td>...</td>\n",
              "      <td>...</td>\n",
              "    </tr>\n",
              "    <tr>\n",
              "      <th>2344</th>\n",
              "      <td>Shane Carruth</td>\n",
              "      <td>7106</td>\n",
              "      <td>2</td>\n",
              "      <td>76624</td>\n",
              "      <td>Directing</td>\n",
              "    </tr>\n",
              "    <tr>\n",
              "      <th>2345</th>\n",
              "      <td>Neill Dela Llana</td>\n",
              "      <td>7107</td>\n",
              "      <td>0</td>\n",
              "      <td>1174437</td>\n",
              "      <td>Directing</td>\n",
              "    </tr>\n",
              "    <tr>\n",
              "      <th>2346</th>\n",
              "      <td>Scott Smith</td>\n",
              "      <td>7108</td>\n",
              "      <td>0</td>\n",
              "      <td>1219158</td>\n",
              "      <td>Directing</td>\n",
              "    </tr>\n",
              "    <tr>\n",
              "      <th>2347</th>\n",
              "      <td>Daniel Hsia</td>\n",
              "      <td>7109</td>\n",
              "      <td>2</td>\n",
              "      <td>208138</td>\n",
              "      <td>Directing</td>\n",
              "    </tr>\n",
              "    <tr>\n",
              "      <th>2348</th>\n",
              "      <td>Brian Herzlinger</td>\n",
              "      <td>7110</td>\n",
              "      <td>2</td>\n",
              "      <td>85563</td>\n",
              "      <td>Directing</td>\n",
              "    </tr>\n",
              "  </tbody>\n",
              "</table>\n",
              "<p>2349 rows × 5 columns</p>\n",
              "</div>"
            ],
            "text/plain": [
              "                   name    id  gender      uid department\n",
              "0         James Cameron  4762       2     2710  Directing\n",
              "1        Gore Verbinski  4763       2     1704  Directing\n",
              "2            Sam Mendes  4764       2       39  Directing\n",
              "3     Christopher Nolan  4765       2      525  Directing\n",
              "4        Andrew Stanton  4766       2        7  Directing\n",
              "...                 ...   ...     ...      ...        ...\n",
              "2344      Shane Carruth  7106       2    76624  Directing\n",
              "2345   Neill Dela Llana  7107       0  1174437  Directing\n",
              "2346        Scott Smith  7108       0  1219158  Directing\n",
              "2347        Daniel Hsia  7109       2   208138  Directing\n",
              "2348   Brian Herzlinger  7110       2    85563  Directing\n",
              "\n",
              "[2349 rows x 5 columns]"
            ]
          },
          "metadata": {
            "tags": []
          },
          "execution_count": 36
        }
      ]
    },
    {
      "cell_type": "code",
      "metadata": {
        "colab": {
          "base_uri": "https://localhost:8080/"
        },
        "id": "37-4E4Ps6RFV",
        "outputId": "70b64034-f8c0-486a-eeec-9089051ea015"
      },
      "source": [
        "directors.info()"
      ],
      "execution_count": null,
      "outputs": [
        {
          "output_type": "stream",
          "text": [
            "<class 'pandas.core.frame.DataFrame'>\n",
            "RangeIndex: 2349 entries, 0 to 2348\n",
            "Data columns (total 5 columns):\n",
            " #   Column      Non-Null Count  Dtype \n",
            "---  ------      --------------  ----- \n",
            " 0   name        2349 non-null   object\n",
            " 1   id          2349 non-null   int64 \n",
            " 2   gender      2349 non-null   int64 \n",
            " 3   uid         2349 non-null   int64 \n",
            " 4   department  2349 non-null   object\n",
            "dtypes: int64(3), object(2)\n",
            "memory usage: 91.9+ KB\n"
          ],
          "name": "stdout"
        }
      ]
    },
    {
      "cell_type": "markdown",
      "metadata": {
        "id": "AF35aHnIJ3X6"
      },
      "source": [
        "4. Check how many movies are present in the IMDB table"
      ]
    },
    {
      "cell_type": "code",
      "metadata": {
        "colab": {
          "base_uri": "https://localhost:8080/"
        },
        "id": "GJjdG9PB6RIV",
        "outputId": "e4ee24e7-b09e-40ea-a59b-1e4bda0cba21"
      },
      "source": [
        "cur.execute('SELECT COUNT(Title) FROM movies')\n",
        "count = cur.fetchall()\n",
        "print(f\"The number of movies present in the IMDB databse is {count[0]}\")"
      ],
      "execution_count": null,
      "outputs": [
        {
          "output_type": "stream",
          "text": [
            "The number of movies present in the IMDB databse is (4773,)\n"
          ],
          "name": "stdout"
        }
      ]
    },
    {
      "cell_type": "markdown",
      "metadata": {
        "id": "5uoWxhmwLZwC"
      },
      "source": [
        "5. Find these 3 directors: James Cameron, Luc Besson, John Woo"
      ]
    },
    {
      "cell_type": "code",
      "metadata": {
        "colab": {
          "base_uri": "https://localhost:8080/"
        },
        "id": "LFlJqT6f6RLG",
        "outputId": "9bfbc1ff-4f21-4e8d-fa1b-03f879066537"
      },
      "source": [
        "cur.execute(\"SELECT * FROM directors WHERE name IN ('James Cameron','Luc Besson', 'John Woo')\")\n",
        "cur.execute(\"SELECT * FROM directors WHERE name =='James Cameron' or name =='Luc Besson' or name == 'John Woo'\")\n",
        "three_directors = cur.fetchall()\n",
        "print(f\"Theses 3 Directors data are: {three_directors}\")"
      ],
      "execution_count": null,
      "outputs": [
        {
          "output_type": "stream",
          "text": [
            "Theses 3 Directors data are: [('James Cameron', 4762, 2, 2710, 'Directing'), ('John Woo', 4893, 2, 11401, 'Directing'), ('Luc Besson', 4949, 2, 59, 'Directing')]\n"
          ],
          "name": "stdout"
        }
      ]
    },
    {
      "cell_type": "markdown",
      "metadata": {
        "id": "kOr8G2bONcuX"
      },
      "source": [
        "6. Find all the directors with name starting with 'Steven'"
      ]
    },
    {
      "cell_type": "code",
      "metadata": {
        "colab": {
          "base_uri": "https://localhost:8080/"
        },
        "id": "_Cvd8h1J6ROP",
        "outputId": "9fcf78c3-589e-42d5-b489-43a1a77fead8"
      },
      "source": [
        "cur.execute('SELECT * FROM directors WHERE name LIKE \"Steven%\"')\n",
        "name_like = cur.fetchall()\n",
        "print(f\"The directors whose names are starting with the word 'Steven' are: {name_like}\")"
      ],
      "execution_count": null,
      "outputs": [
        {
          "output_type": "stream",
          "text": [
            "The directors whose names are starting with the word 'Steven' are: [('Steven Spielberg', 4799, 2, 488, 'Directing'), ('Steven Soderbergh', 4909, 2, 1884, 'Directing'), ('Steven Brill', 5013, 2, 32593, 'Directing'), ('Steven Zaillian', 5117, 2, 2260, 'Directing'), ('Steven Quale', 5216, 2, 93214, 'Directing'), ('Steven Seagal', 5221, 2, 23880, 'Directing'), ('Steven E. de Souza', 5390, 2, 1726, 'Directing'), ('Steven Shainberg', 5803, 2, 67795, 'Directing'), ('Steven R. Monroe', 6713, 2, 88039, 'Directing')]\n"
          ],
          "name": "stdout"
        }
      ]
    },
    {
      "cell_type": "markdown",
      "metadata": {
        "id": "XgnGWib4Owl9"
      },
      "source": [
        "7. Count the Female directors"
      ]
    },
    {
      "cell_type": "code",
      "metadata": {
        "colab": {
          "base_uri": "https://localhost:8080/"
        },
        "id": "M5I3yAji6RRh",
        "outputId": "7dbc7209-f70d-4b0f-b178-19821e7e632c"
      },
      "source": [
        "cur.execute(\"SELECT COUNT(*) FROM directors WHERE gender == '1'\")\n",
        "females = cur.fetchall()\n",
        "print(f\"The number of female directors is {females[0][0]}\")"
      ],
      "execution_count": null,
      "outputs": [
        {
          "output_type": "stream",
          "text": [
            "The number of female directors is 150\n"
          ],
          "name": "stdout"
        }
      ]
    },
    {
      "cell_type": "markdown",
      "metadata": {
        "id": "VVgM9BmhP4OI"
      },
      "source": [
        "8. Find the name of the 10th first women directors"
      ]
    },
    {
      "cell_type": "code",
      "metadata": {
        "colab": {
          "base_uri": "https://localhost:8080/"
        },
        "id": "r-U5fhy-6RUB",
        "outputId": "5c3a5add-acf4-4b92-daf5-0e70b0ada2b3"
      },
      "source": [
        "cur.execute('SELECT name FROM directors WHERE gender==1')\n",
        "tenth = cur.fetchall()\n",
        "print(f\"The tenth first women is {tenth[9][0]}\")"
      ],
      "execution_count": null,
      "outputs": [
        {
          "output_type": "stream",
          "text": [
            "The tenth first women is Angelina Jolie\n"
          ],
          "name": "stdout"
        }
      ]
    },
    {
      "cell_type": "markdown",
      "metadata": {
        "id": "GSV3cdg7Sf1t"
      },
      "source": [
        "9. What are the 3 most popular movies?"
      ]
    },
    {
      "cell_type": "code",
      "metadata": {
        "colab": {
          "base_uri": "https://localhost:8080/"
        },
        "id": "F5-vqEoO6RcJ",
        "outputId": "678f9a5f-fd95-4af4-a81d-dc591d45aff4"
      },
      "source": [
        "cur.execute('SELECT title FROM movies ORDER BY popularity DESC LIMIT 3 ')\n",
        "most_popular = cur.fetchall()\n",
        "print(f\"The 3 mostpopular movies are: {most_popular[0][0]}, {most_popular[1][0]} and {most_popular[2][0]}\")"
      ],
      "execution_count": null,
      "outputs": [
        {
          "output_type": "stream",
          "text": [
            "The 3 mostpopular movies are: Minions, Interstellar and Deadpool\n"
          ],
          "name": "stdout"
        }
      ]
    },
    {
      "cell_type": "markdown",
      "metadata": {
        "id": "VFPjXomnUKJx"
      },
      "source": [
        "10. What are the 3 most bankable movies?"
      ]
    },
    {
      "cell_type": "code",
      "metadata": {
        "colab": {
          "base_uri": "https://localhost:8080/"
        },
        "id": "Og38yCbW6Rfg",
        "outputId": "2f1ae63e-d110-496f-dee4-3be7f5de090b"
      },
      "source": [
        "cur.execute('SELECT title FROM movies ORDER BY budget DESC LIMIT 3')\n",
        "most_bankable = cur.fetchall()\n",
        "most_bankable\n",
        "print(f\"The three most bankable movies are {most_bankable[0][0]}, {most_bankable[1][0]} and {most_bankable[2][0]}\")"
      ],
      "execution_count": null,
      "outputs": [
        {
          "output_type": "stream",
          "text": [
            "The three most bankable movies are Pirates of the Caribbean: On Stranger Tides, Pirates of the Caribbean: At World's End and Avengers: Age of Ultron\n"
          ],
          "name": "stdout"
        }
      ]
    },
    {
      "cell_type": "markdown",
      "metadata": {
        "id": "LwA64E5HVByc"
      },
      "source": [
        "11. What is the most awarded average rated movie since the Jan 1st, 2000?"
      ]
    },
    {
      "cell_type": "code",
      "metadata": {
        "colab": {
          "base_uri": "https://localhost:8080/"
        },
        "id": "-kMGWiFm6RiW",
        "outputId": "12f999b5-d2f0-45ef-d1f3-44c25f532dce"
      },
      "source": [
        "cur.execute(\"SELECT Original_title FROM movies WHERE Release_date\t > '2000-01-01' ORDER BY vote_average DESC LIMIT 1\")\n",
        "most_awarded_avg = cur.fetchall()\n",
        "print(f\"The most awarded average rated movie is {most_awarded_avg[0][0]}\")"
      ],
      "execution_count": null,
      "outputs": [
        {
          "output_type": "stream",
          "text": [
            "The most awarded average rated movie is Sardaarji\n"
          ],
          "name": "stdout"
        }
      ]
    },
    {
      "cell_type": "markdown",
      "metadata": {
        "id": "mc_PFmURZG7S"
      },
      "source": [
        "12. Which movie(s) were directed by Brenda Chapman?"
      ]
    },
    {
      "cell_type": "code",
      "metadata": {
        "colab": {
          "base_uri": "https://localhost:8080/"
        },
        "id": "foyzV50p6RoE",
        "outputId": "92d7ae68-a8ad-4099-bb2b-19686185265e"
      },
      "source": [
        "cur.execute(\"SELECT original_title FROM movies JOIN directors ON directors.id = movies.director_id WHERE directors.name = 'Brenda Chapman'\")\n",
        "directed_by = cur.fetchall()\n",
        "print(f\"The movie(s) directed by Brenda Chapman is {directed_by[0][0]}\")"
      ],
      "execution_count": null,
      "outputs": [
        {
          "output_type": "stream",
          "text": [
            "The movie(s) directed by Brenda Chapman is Brave\n"
          ],
          "name": "stdout"
        }
      ]
    },
    {
      "cell_type": "markdown",
      "metadata": {
        "id": "xwInl1eScYPK"
      },
      "source": [
        "13. Name the director who has made the most movies?"
      ]
    },
    {
      "cell_type": "code",
      "metadata": {
        "colab": {
          "base_uri": "https://localhost:8080/"
        },
        "id": "_CDNwqpj6Rx2",
        "outputId": "8854263b-b839-4d1b-ba49-8e6bb0597193"
      },
      "source": [
        "cur.execute(\"SELECT name FROM directors JOIN movies ON directors.id = movies.director_id GROUP BY director_id ORDER BY COUNT(name) DESC limit 1\")\n",
        "director_movie = cur.fetchall()\n",
        "print(f\"The director who made the most movies is {director_movie[0][0]}\")"
      ],
      "execution_count": null,
      "outputs": [
        {
          "output_type": "stream",
          "text": [
            "The director who made the most movies is Steven Spielberg\n"
          ],
          "name": "stdout"
        }
      ]
    },
    {
      "cell_type": "markdown",
      "metadata": {
        "id": "fZFJHVDNfyrX"
      },
      "source": [
        "14. Name of the director who is most bankable"
      ]
    },
    {
      "cell_type": "code",
      "metadata": {
        "colab": {
          "base_uri": "https://localhost:8080/"
        },
        "id": "9alMwiia6R3_",
        "outputId": "6db2fe8f-f54a-4491-aa72-85f7b7703bb9"
      },
      "source": [
        "cur.execute(\"SELECT name FROM directors JOIN movies ON directors.id = movies.director_id GROUP BY director_id ORDER BY SUM(budget) DESC limit 1\")\n",
        "most_bankable = cur.fetchall()\n",
        "print(f'The most bankable director is {most_bankable[0][0]}')"
      ],
      "execution_count": null,
      "outputs": [
        {
          "output_type": "stream",
          "text": [
            "The most bankable director is Steven Spielberg\n"
          ],
          "name": "stdout"
        }
      ]
    },
    {
      "cell_type": "markdown",
      "metadata": {
        "id": "lZyyBOx6iWeE"
      },
      "source": [
        "# Budget Analysis"
      ]
    },
    {
      "cell_type": "markdown",
      "metadata": {
        "id": "OiLM6b8Ii5jx"
      },
      "source": [
        "1. Tell the Top 10 highest budget making movie"
      ]
    },
    {
      "cell_type": "code",
      "metadata": {
        "colab": {
          "base_uri": "https://localhost:8080/"
        },
        "id": "87d8GUGx6SA7",
        "outputId": "231ad8eb-efaa-4abd-9ec9-0385ceda5ae1"
      },
      "source": [
        "movies.columns"
      ],
      "execution_count": null,
      "outputs": [
        {
          "output_type": "execute_result",
          "data": {
            "text/plain": [
              "Index(['id', 'original_title', 'budget', 'popularity', 'release_date',\n",
              "       'revenue', 'title', 'vote_average', 'vote_count', 'overview', 'tagline',\n",
              "       'uid', 'director_id'],\n",
              "      dtype='object')"
            ]
          },
          "metadata": {
            "tags": []
          },
          "execution_count": 149
        }
      ]
    },
    {
      "cell_type": "code",
      "metadata": {
        "colab": {
          "base_uri": "https://localhost:8080/",
          "height": 1000
        },
        "id": "m3jYaEpPjwLc",
        "outputId": "79c77894-72e7-46a9-95b6-88f133f75628"
      },
      "source": [
        "cur.execute('Select * FROM movies ORDER BY budget DESC LIMIT 10')\n",
        "top_10 = cur.fetchall()\n",
        "most_popular = pd.DataFrame(top_10, columns=['id', 'original_title', 'budget', 'popularity', 'release_date',\n",
        "       'revenue', 'title', 'vote_average', 'vote_count', 'overview', 'tagline',\n",
        "       'uid', 'director_id'])\n",
        "most_popular"
      ],
      "execution_count": null,
      "outputs": [
        {
          "output_type": "execute_result",
          "data": {
            "text/html": [
              "<div>\n",
              "<style scoped>\n",
              "    .dataframe tbody tr th:only-of-type {\n",
              "        vertical-align: middle;\n",
              "    }\n",
              "\n",
              "    .dataframe tbody tr th {\n",
              "        vertical-align: top;\n",
              "    }\n",
              "\n",
              "    .dataframe thead th {\n",
              "        text-align: right;\n",
              "    }\n",
              "</style>\n",
              "<table border=\"1\" class=\"dataframe\">\n",
              "  <thead>\n",
              "    <tr style=\"text-align: right;\">\n",
              "      <th></th>\n",
              "      <th>id</th>\n",
              "      <th>original_title</th>\n",
              "      <th>budget</th>\n",
              "      <th>popularity</th>\n",
              "      <th>release_date</th>\n",
              "      <th>revenue</th>\n",
              "      <th>title</th>\n",
              "      <th>vote_average</th>\n",
              "      <th>vote_count</th>\n",
              "      <th>overview</th>\n",
              "      <th>tagline</th>\n",
              "      <th>uid</th>\n",
              "      <th>director_id</th>\n",
              "    </tr>\n",
              "  </thead>\n",
              "  <tbody>\n",
              "    <tr>\n",
              "      <th>0</th>\n",
              "      <td>43614</td>\n",
              "      <td>Pirates of the Caribbean: On Stranger Tides</td>\n",
              "      <td>380000000</td>\n",
              "      <td>135</td>\n",
              "      <td>2011-05-14</td>\n",
              "      <td>1045713802</td>\n",
              "      <td>Pirates of the Caribbean: On Stranger Tides</td>\n",
              "      <td>6.4</td>\n",
              "      <td>4948</td>\n",
              "      <td>Captain Jack Sparrow crosses paths with a woma...</td>\n",
              "      <td>Live Forever Or Die Trying.</td>\n",
              "      <td>1865</td>\n",
              "      <td>4775</td>\n",
              "    </tr>\n",
              "    <tr>\n",
              "      <th>1</th>\n",
              "      <td>43598</td>\n",
              "      <td>Pirates of the Caribbean: At World's End</td>\n",
              "      <td>300000000</td>\n",
              "      <td>139</td>\n",
              "      <td>2007-05-19</td>\n",
              "      <td>961000000</td>\n",
              "      <td>Pirates of the Caribbean: At World's End</td>\n",
              "      <td>6.9</td>\n",
              "      <td>4500</td>\n",
              "      <td>Captain Barbossa, long believed to be dead, ha...</td>\n",
              "      <td>At the end of the world, the adventure begins.</td>\n",
              "      <td>285</td>\n",
              "      <td>4763</td>\n",
              "    </tr>\n",
              "    <tr>\n",
              "      <th>2</th>\n",
              "      <td>43604</td>\n",
              "      <td>Avengers: Age of Ultron</td>\n",
              "      <td>280000000</td>\n",
              "      <td>134</td>\n",
              "      <td>2015-04-22</td>\n",
              "      <td>1405403694</td>\n",
              "      <td>Avengers: Age of Ultron</td>\n",
              "      <td>7.3</td>\n",
              "      <td>6767</td>\n",
              "      <td>When Tony Stark tries to jumpstart a dormant p...</td>\n",
              "      <td>A New Age Has Come.</td>\n",
              "      <td>99861</td>\n",
              "      <td>4769</td>\n",
              "    </tr>\n",
              "    <tr>\n",
              "      <th>3</th>\n",
              "      <td>43607</td>\n",
              "      <td>Superman Returns</td>\n",
              "      <td>270000000</td>\n",
              "      <td>57</td>\n",
              "      <td>2006-06-28</td>\n",
              "      <td>391081192</td>\n",
              "      <td>Superman Returns</td>\n",
              "      <td>5.4</td>\n",
              "      <td>1400</td>\n",
              "      <td>Superman returns to discover his 5-year absenc...</td>\n",
              "      <td>None</td>\n",
              "      <td>1452</td>\n",
              "      <td>4772</td>\n",
              "    </tr>\n",
              "    <tr>\n",
              "      <th>4</th>\n",
              "      <td>43601</td>\n",
              "      <td>John Carter</td>\n",
              "      <td>260000000</td>\n",
              "      <td>43</td>\n",
              "      <td>2012-03-07</td>\n",
              "      <td>284139100</td>\n",
              "      <td>John Carter</td>\n",
              "      <td>6.1</td>\n",
              "      <td>2124</td>\n",
              "      <td>John Carter is a war-weary, former military ca...</td>\n",
              "      <td>Lost in our world, found in another.</td>\n",
              "      <td>49529</td>\n",
              "      <td>4766</td>\n",
              "    </tr>\n",
              "    <tr>\n",
              "      <th>5</th>\n",
              "      <td>43603</td>\n",
              "      <td>Tangled</td>\n",
              "      <td>260000000</td>\n",
              "      <td>48</td>\n",
              "      <td>2010-11-24</td>\n",
              "      <td>591794936</td>\n",
              "      <td>Tangled</td>\n",
              "      <td>7.4</td>\n",
              "      <td>3330</td>\n",
              "      <td>When the kingdom's most wanted-and most charmi...</td>\n",
              "      <td>They're taking adventure to new lengths.</td>\n",
              "      <td>38757</td>\n",
              "      <td>4768</td>\n",
              "    </tr>\n",
              "    <tr>\n",
              "      <th>6</th>\n",
              "      <td>43602</td>\n",
              "      <td>Spider-Man 3</td>\n",
              "      <td>258000000</td>\n",
              "      <td>115</td>\n",
              "      <td>2007-05-01</td>\n",
              "      <td>890871626</td>\n",
              "      <td>Spider-Man 3</td>\n",
              "      <td>5.9</td>\n",
              "      <td>3576</td>\n",
              "      <td>The seemingly invincible Spider-Man goes up ag...</td>\n",
              "      <td>The battle within.</td>\n",
              "      <td>559</td>\n",
              "      <td>4767</td>\n",
              "    </tr>\n",
              "    <tr>\n",
              "      <th>7</th>\n",
              "      <td>43610</td>\n",
              "      <td>The Lone Ranger</td>\n",
              "      <td>255000000</td>\n",
              "      <td>49</td>\n",
              "      <td>2013-07-03</td>\n",
              "      <td>89289910</td>\n",
              "      <td>The Lone Ranger</td>\n",
              "      <td>5.9</td>\n",
              "      <td>2311</td>\n",
              "      <td>The Texas Rangers chase down a gang of outlaws...</td>\n",
              "      <td>Never Take Off the Mask</td>\n",
              "      <td>57201</td>\n",
              "      <td>4763</td>\n",
              "    </tr>\n",
              "    <tr>\n",
              "      <th>8</th>\n",
              "      <td>43600</td>\n",
              "      <td>The Dark Knight Rises</td>\n",
              "      <td>250000000</td>\n",
              "      <td>112</td>\n",
              "      <td>2012-07-16</td>\n",
              "      <td>1084939099</td>\n",
              "      <td>The Dark Knight Rises</td>\n",
              "      <td>7.6</td>\n",
              "      <td>9106</td>\n",
              "      <td>Following the death of District Attorney Harve...</td>\n",
              "      <td>The Legend Ends</td>\n",
              "      <td>49026</td>\n",
              "      <td>4765</td>\n",
              "    </tr>\n",
              "    <tr>\n",
              "      <th>9</th>\n",
              "      <td>43605</td>\n",
              "      <td>Harry Potter and the Half-Blood Prince</td>\n",
              "      <td>250000000</td>\n",
              "      <td>98</td>\n",
              "      <td>2009-07-07</td>\n",
              "      <td>933959197</td>\n",
              "      <td>Harry Potter and the Half-Blood Prince</td>\n",
              "      <td>7.4</td>\n",
              "      <td>5293</td>\n",
              "      <td>As Harry begins his sixth year at Hogwarts, he...</td>\n",
              "      <td>Dark Secrets Revealed</td>\n",
              "      <td>767</td>\n",
              "      <td>4770</td>\n",
              "    </tr>\n",
              "  </tbody>\n",
              "</table>\n",
              "</div>"
            ],
            "text/plain": [
              "      id                               original_title  ...    uid  director_id\n",
              "0  43614  Pirates of the Caribbean: On Stranger Tides  ...   1865         4775\n",
              "1  43598     Pirates of the Caribbean: At World's End  ...    285         4763\n",
              "2  43604                      Avengers: Age of Ultron  ...  99861         4769\n",
              "3  43607                             Superman Returns  ...   1452         4772\n",
              "4  43601                                  John Carter  ...  49529         4766\n",
              "5  43603                                      Tangled  ...  38757         4768\n",
              "6  43602                                 Spider-Man 3  ...    559         4767\n",
              "7  43610                              The Lone Ranger  ...  57201         4763\n",
              "8  43600                        The Dark Knight Rises  ...  49026         4765\n",
              "9  43605       Harry Potter and the Half-Blood Prince  ...    767         4770\n",
              "\n",
              "[10 rows x 13 columns]"
            ]
          },
          "metadata": {
            "tags": []
          },
          "execution_count": 150
        }
      ]
    },
    {
      "cell_type": "markdown",
      "metadata": {
        "id": "MzSo6nsBlJaj"
      },
      "source": [
        "# Revenue Analysis"
      ]
    },
    {
      "cell_type": "markdown",
      "metadata": {
        "id": "9jnuxpXmlOwh"
      },
      "source": [
        "1. Find Top 10 Revenue making movies"
      ]
    },
    {
      "cell_type": "code",
      "metadata": {
        "colab": {
          "base_uri": "https://localhost:8080/",
          "height": 1000
        },
        "id": "wL-ivjxqjwPU",
        "outputId": "1386a67f-1ade-49ba-9dfe-69e59803c24a"
      },
      "source": [
        "cur.execute(\"SELECT * FROM movies ORDER BY revenue DESC LIMIT 10\")\n",
        "top10_movies = cur.fetchall()\n",
        "most_revenue = pd.DataFrame(top10_movies,  columns= ['id','original_title','budget','popularity','release_date',\n",
        "                                    'revenue', 'title','vote_average','vote_count','overview',\n",
        "                                    'tagline','uid','director_id'])\n",
        "most_revenue"
      ],
      "execution_count": null,
      "outputs": [
        {
          "output_type": "execute_result",
          "data": {
            "text/html": [
              "<div>\n",
              "<style scoped>\n",
              "    .dataframe tbody tr th:only-of-type {\n",
              "        vertical-align: middle;\n",
              "    }\n",
              "\n",
              "    .dataframe tbody tr th {\n",
              "        vertical-align: top;\n",
              "    }\n",
              "\n",
              "    .dataframe thead th {\n",
              "        text-align: right;\n",
              "    }\n",
              "</style>\n",
              "<table border=\"1\" class=\"dataframe\">\n",
              "  <thead>\n",
              "    <tr style=\"text-align: right;\">\n",
              "      <th></th>\n",
              "      <th>id</th>\n",
              "      <th>original_title</th>\n",
              "      <th>budget</th>\n",
              "      <th>popularity</th>\n",
              "      <th>release_date</th>\n",
              "      <th>revenue</th>\n",
              "      <th>title</th>\n",
              "      <th>vote_average</th>\n",
              "      <th>vote_count</th>\n",
              "      <th>overview</th>\n",
              "      <th>tagline</th>\n",
              "      <th>uid</th>\n",
              "      <th>director_id</th>\n",
              "    </tr>\n",
              "  </thead>\n",
              "  <tbody>\n",
              "    <tr>\n",
              "      <th>0</th>\n",
              "      <td>43597</td>\n",
              "      <td>Avatar</td>\n",
              "      <td>237000000</td>\n",
              "      <td>150</td>\n",
              "      <td>2009-12-10</td>\n",
              "      <td>2787965087</td>\n",
              "      <td>Avatar</td>\n",
              "      <td>7.2</td>\n",
              "      <td>11800</td>\n",
              "      <td>In the 22nd century, a paraplegic Marine is di...</td>\n",
              "      <td>Enter the World of Pandora.</td>\n",
              "      <td>19995</td>\n",
              "      <td>4762</td>\n",
              "    </tr>\n",
              "    <tr>\n",
              "      <th>1</th>\n",
              "      <td>43622</td>\n",
              "      <td>Titanic</td>\n",
              "      <td>200000000</td>\n",
              "      <td>100</td>\n",
              "      <td>1997-11-18</td>\n",
              "      <td>1845034188</td>\n",
              "      <td>Titanic</td>\n",
              "      <td>7.5</td>\n",
              "      <td>7562</td>\n",
              "      <td>84 years later, a 101-year-old woman named Ros...</td>\n",
              "      <td>Nothing on Earth could come between them.</td>\n",
              "      <td>597</td>\n",
              "      <td>4762</td>\n",
              "    </tr>\n",
              "    <tr>\n",
              "      <th>2</th>\n",
              "      <td>43613</td>\n",
              "      <td>The Avengers</td>\n",
              "      <td>220000000</td>\n",
              "      <td>144</td>\n",
              "      <td>2012-04-25</td>\n",
              "      <td>1519557910</td>\n",
              "      <td>The Avengers</td>\n",
              "      <td>7.4</td>\n",
              "      <td>11776</td>\n",
              "      <td>When an unexpected enemy emerges and threatens...</td>\n",
              "      <td>Some assembly required.</td>\n",
              "      <td>24428</td>\n",
              "      <td>4769</td>\n",
              "    </tr>\n",
              "    <tr>\n",
              "      <th>3</th>\n",
              "      <td>43625</td>\n",
              "      <td>Jurassic World</td>\n",
              "      <td>150000000</td>\n",
              "      <td>418</td>\n",
              "      <td>2015-06-09</td>\n",
              "      <td>1513528810</td>\n",
              "      <td>Jurassic World</td>\n",
              "      <td>6.5</td>\n",
              "      <td>8662</td>\n",
              "      <td>Twenty-two years after the events of Jurassic ...</td>\n",
              "      <td>The park is open.</td>\n",
              "      <td>135397</td>\n",
              "      <td>4783</td>\n",
              "    </tr>\n",
              "    <tr>\n",
              "      <th>4</th>\n",
              "      <td>43641</td>\n",
              "      <td>Furious 7</td>\n",
              "      <td>190000000</td>\n",
              "      <td>102</td>\n",
              "      <td>2015-04-01</td>\n",
              "      <td>1506249360</td>\n",
              "      <td>Furious 7</td>\n",
              "      <td>7.3</td>\n",
              "      <td>4176</td>\n",
              "      <td>Deckard Shaw seeks revenge against Dominic Tor...</td>\n",
              "      <td>Vengeance Hits Home</td>\n",
              "      <td>168259</td>\n",
              "      <td>4794</td>\n",
              "    </tr>\n",
              "    <tr>\n",
              "      <th>5</th>\n",
              "      <td>43604</td>\n",
              "      <td>Avengers: Age of Ultron</td>\n",
              "      <td>280000000</td>\n",
              "      <td>134</td>\n",
              "      <td>2015-04-22</td>\n",
              "      <td>1405403694</td>\n",
              "      <td>Avengers: Age of Ultron</td>\n",
              "      <td>7.3</td>\n",
              "      <td>6767</td>\n",
              "      <td>When Tony Stark tries to jumpstart a dormant p...</td>\n",
              "      <td>A New Age Has Come.</td>\n",
              "      <td>99861</td>\n",
              "      <td>4769</td>\n",
              "    </tr>\n",
              "    <tr>\n",
              "      <th>6</th>\n",
              "      <td>43721</td>\n",
              "      <td>Frozen</td>\n",
              "      <td>150000000</td>\n",
              "      <td>165</td>\n",
              "      <td>2013-11-27</td>\n",
              "      <td>1274219009</td>\n",
              "      <td>Frozen</td>\n",
              "      <td>7.3</td>\n",
              "      <td>5295</td>\n",
              "      <td>Young princess Anna of Arendelle dreams about ...</td>\n",
              "      <td>Only the act of true love will thaw a frozen h...</td>\n",
              "      <td>109445</td>\n",
              "      <td>4844</td>\n",
              "    </tr>\n",
              "    <tr>\n",
              "      <th>7</th>\n",
              "      <td>43628</td>\n",
              "      <td>Iron Man 3</td>\n",
              "      <td>200000000</td>\n",
              "      <td>77</td>\n",
              "      <td>2013-04-18</td>\n",
              "      <td>1215439994</td>\n",
              "      <td>Iron Man 3</td>\n",
              "      <td>6.8</td>\n",
              "      <td>8806</td>\n",
              "      <td>When Tony Stark's world is torn apart by a for...</td>\n",
              "      <td>Unleash the power behind the armor.</td>\n",
              "      <td>68721</td>\n",
              "      <td>4784</td>\n",
              "    </tr>\n",
              "    <tr>\n",
              "      <th>8</th>\n",
              "      <td>44143</td>\n",
              "      <td>Minions</td>\n",
              "      <td>74000000</td>\n",
              "      <td>875</td>\n",
              "      <td>2015-06-17</td>\n",
              "      <td>1156730962</td>\n",
              "      <td>Minions</td>\n",
              "      <td>6.4</td>\n",
              "      <td>4571</td>\n",
              "      <td>Minions Stuart, Kevin and Bob are recruited by...</td>\n",
              "      <td>Before Gru, they had a history of bad bosses</td>\n",
              "      <td>211672</td>\n",
              "      <td>5045</td>\n",
              "    </tr>\n",
              "    <tr>\n",
              "      <th>9</th>\n",
              "      <td>43623</td>\n",
              "      <td>Captain America: Civil War</td>\n",
              "      <td>250000000</td>\n",
              "      <td>198</td>\n",
              "      <td>2016-04-27</td>\n",
              "      <td>1153304495</td>\n",
              "      <td>Captain America: Civil War</td>\n",
              "      <td>7.1</td>\n",
              "      <td>7241</td>\n",
              "      <td>Following the events of Age of Ultron, the col...</td>\n",
              "      <td>Divided We Fall</td>\n",
              "      <td>271110</td>\n",
              "      <td>4781</td>\n",
              "    </tr>\n",
              "  </tbody>\n",
              "</table>\n",
              "</div>"
            ],
            "text/plain": [
              "      id              original_title  ...     uid  director_id\n",
              "0  43597                      Avatar  ...   19995         4762\n",
              "1  43622                     Titanic  ...     597         4762\n",
              "2  43613                The Avengers  ...   24428         4769\n",
              "3  43625              Jurassic World  ...  135397         4783\n",
              "4  43641                   Furious 7  ...  168259         4794\n",
              "5  43604     Avengers: Age of Ultron  ...   99861         4769\n",
              "6  43721                      Frozen  ...  109445         4844\n",
              "7  43628                  Iron Man 3  ...   68721         4784\n",
              "8  44143                     Minions  ...  211672         5045\n",
              "9  43623  Captain America: Civil War  ...  271110         4781\n",
              "\n",
              "[10 rows x 13 columns]"
            ]
          },
          "metadata": {
            "tags": []
          },
          "execution_count": 152
        }
      ]
    },
    {
      "cell_type": "markdown",
      "metadata": {
        "id": "LfK5BsX-l8dJ"
      },
      "source": [
        "# Voting Analysis"
      ]
    },
    {
      "cell_type": "markdown",
      "metadata": {
        "id": "xcmzPKYZmEVG"
      },
      "source": [
        "1. Find the most popular movies with highest vote_average"
      ]
    },
    {
      "cell_type": "code",
      "metadata": {
        "colab": {
          "base_uri": "https://localhost:8080/",
          "height": 1000
        },
        "id": "F2-sYq_emQZv",
        "outputId": "a63b04d4-1487-478e-ab99-b550c0d2b9ca"
      },
      "source": [
        "cur.execute((\"SELECT * FROM movies ORDER BY vote_average DESC LIMIT 10\"))\n",
        "most_pop = cur.fetchall() \n",
        "most_popular_movie = pd.DataFrame(most_pop,columns =['id', 'original_title', 'budget', 'popularity', 'release_date',\n",
        "       'revenue', 'title', 'vote_average', 'vote_count', 'overview', 'tagline',\n",
        "       'uid', 'director_id'])\n",
        "most_popular_movie"
      ],
      "execution_count": null,
      "outputs": [
        {
          "output_type": "execute_result",
          "data": {
            "text/html": [
              "<div>\n",
              "<style scoped>\n",
              "    .dataframe tbody tr th:only-of-type {\n",
              "        vertical-align: middle;\n",
              "    }\n",
              "\n",
              "    .dataframe tbody tr th {\n",
              "        vertical-align: top;\n",
              "    }\n",
              "\n",
              "    .dataframe thead th {\n",
              "        text-align: right;\n",
              "    }\n",
              "</style>\n",
              "<table border=\"1\" class=\"dataframe\">\n",
              "  <thead>\n",
              "    <tr style=\"text-align: right;\">\n",
              "      <th></th>\n",
              "      <th>id</th>\n",
              "      <th>original_title</th>\n",
              "      <th>budget</th>\n",
              "      <th>popularity</th>\n",
              "      <th>release_date</th>\n",
              "      <th>revenue</th>\n",
              "      <th>title</th>\n",
              "      <th>vote_average</th>\n",
              "      <th>vote_count</th>\n",
              "      <th>overview</th>\n",
              "      <th>tagline</th>\n",
              "      <th>uid</th>\n",
              "      <th>director_id</th>\n",
              "    </tr>\n",
              "  </thead>\n",
              "  <tbody>\n",
              "    <tr>\n",
              "      <th>0</th>\n",
              "      <td>47116</td>\n",
              "      <td>Stiff Upper Lips</td>\n",
              "      <td>0</td>\n",
              "      <td>0</td>\n",
              "      <td>1998-06-12</td>\n",
              "      <td>0</td>\n",
              "      <td>Stiff Upper Lips</td>\n",
              "      <td>10.0</td>\n",
              "      <td>1</td>\n",
              "      <td>Stiff Upper Lips is a broad parody of British ...</td>\n",
              "      <td>None</td>\n",
              "      <td>89861</td>\n",
              "      <td>6332</td>\n",
              "    </tr>\n",
              "    <tr>\n",
              "      <th>1</th>\n",
              "      <td>47642</td>\n",
              "      <td>Dancer, Texas Pop. 81</td>\n",
              "      <td>0</td>\n",
              "      <td>0</td>\n",
              "      <td>1998-05-01</td>\n",
              "      <td>565592</td>\n",
              "      <td>Dancer, Texas Pop. 81</td>\n",
              "      <td>10.0</td>\n",
              "      <td>1</td>\n",
              "      <td>Four guys, best friends, have grown up togethe...</td>\n",
              "      <td>in the middle of nowhere they had everything</td>\n",
              "      <td>78373</td>\n",
              "      <td>5463</td>\n",
              "    </tr>\n",
              "    <tr>\n",
              "      <th>2</th>\n",
              "      <td>47589</td>\n",
              "      <td>Sardaarji</td>\n",
              "      <td>0</td>\n",
              "      <td>0</td>\n",
              "      <td>2015-06-26</td>\n",
              "      <td>0</td>\n",
              "      <td>Sardaarji</td>\n",
              "      <td>9.5</td>\n",
              "      <td>2</td>\n",
              "      <td>A ghost hunter uses bottles to capture trouble...</td>\n",
              "      <td>None</td>\n",
              "      <td>346081</td>\n",
              "      <td>6588</td>\n",
              "    </tr>\n",
              "    <tr>\n",
              "      <th>3</th>\n",
              "      <td>45983</td>\n",
              "      <td>One Man's Hero</td>\n",
              "      <td>0</td>\n",
              "      <td>0</td>\n",
              "      <td>1999-08-02</td>\n",
              "      <td>0</td>\n",
              "      <td>One Man's Hero</td>\n",
              "      <td>9.3</td>\n",
              "      <td>2</td>\n",
              "      <td>One Man's Hero tells the little-known story of...</td>\n",
              "      <td>One man's hero is another man's traitor.</td>\n",
              "      <td>69848</td>\n",
              "      <td>5770</td>\n",
              "    </tr>\n",
              "    <tr>\n",
              "      <th>4</th>\n",
              "      <td>45478</td>\n",
              "      <td>The Shawshank Redemption</td>\n",
              "      <td>25000000</td>\n",
              "      <td>136</td>\n",
              "      <td>1994-09-23</td>\n",
              "      <td>28341469</td>\n",
              "      <td>The Shawshank Redemption</td>\n",
              "      <td>8.5</td>\n",
              "      <td>8205</td>\n",
              "      <td>Framed in the 1940s for the double murder of h...</td>\n",
              "      <td>Fear can hold you prisoner. Hope can set you f...</td>\n",
              "      <td>278</td>\n",
              "      <td>5051</td>\n",
              "    </tr>\n",
              "    <tr>\n",
              "      <th>5</th>\n",
              "      <td>46567</td>\n",
              "      <td>There Goes My Baby</td>\n",
              "      <td>10500000</td>\n",
              "      <td>0</td>\n",
              "      <td>1994-09-02</td>\n",
              "      <td>123509</td>\n",
              "      <td>There Goes My Baby</td>\n",
              "      <td>8.5</td>\n",
              "      <td>2</td>\n",
              "      <td>A group of high school seniors meets in the su...</td>\n",
              "      <td>None</td>\n",
              "      <td>88641</td>\n",
              "      <td>6051</td>\n",
              "    </tr>\n",
              "    <tr>\n",
              "      <th>6</th>\n",
              "      <td>46393</td>\n",
              "      <td>The Prisoner of Zenda</td>\n",
              "      <td>0</td>\n",
              "      <td>4</td>\n",
              "      <td>1937-09-03</td>\n",
              "      <td>0</td>\n",
              "      <td>The Prisoner of Zenda</td>\n",
              "      <td>8.4</td>\n",
              "      <td>11</td>\n",
              "      <td>An Englishman on a Ruritarian holiday must imp...</td>\n",
              "      <td>The most thrilling swordfight ever filmed...</td>\n",
              "      <td>43867</td>\n",
              "      <td>5972</td>\n",
              "    </tr>\n",
              "    <tr>\n",
              "      <th>7</th>\n",
              "      <td>46934</td>\n",
              "      <td>The Godfather</td>\n",
              "      <td>6000000</td>\n",
              "      <td>143</td>\n",
              "      <td>1972-03-14</td>\n",
              "      <td>245066411</td>\n",
              "      <td>The Godfather</td>\n",
              "      <td>8.4</td>\n",
              "      <td>5893</td>\n",
              "      <td>Spanning the years 1945 to 1955, a chronicle o...</td>\n",
              "      <td>An offer you can't refuse.</td>\n",
              "      <td>238</td>\n",
              "      <td>5179</td>\n",
              "    </tr>\n",
              "    <tr>\n",
              "      <th>8</th>\n",
              "      <td>44259</td>\n",
              "      <td>Fight Club</td>\n",
              "      <td>63000000</td>\n",
              "      <td>146</td>\n",
              "      <td>1999-10-15</td>\n",
              "      <td>100853753</td>\n",
              "      <td>Fight Club</td>\n",
              "      <td>8.3</td>\n",
              "      <td>9413</td>\n",
              "      <td>A ticking-time-bomb insomniac and a slippery s...</td>\n",
              "      <td>Mischief. Mayhem. Soap.</td>\n",
              "      <td>550</td>\n",
              "      <td>4829</td>\n",
              "    </tr>\n",
              "    <tr>\n",
              "      <th>9</th>\n",
              "      <td>45415</td>\n",
              "      <td>Schindler's List</td>\n",
              "      <td>22000000</td>\n",
              "      <td>104</td>\n",
              "      <td>1993-11-29</td>\n",
              "      <td>321365567</td>\n",
              "      <td>Schindler's List</td>\n",
              "      <td>8.3</td>\n",
              "      <td>4329</td>\n",
              "      <td>The true story of how businessman Oskar Schind...</td>\n",
              "      <td>Whoever saves one life, saves the world entire.</td>\n",
              "      <td>424</td>\n",
              "      <td>4799</td>\n",
              "    </tr>\n",
              "  </tbody>\n",
              "</table>\n",
              "</div>"
            ],
            "text/plain": [
              "      id            original_title  ...     uid  director_id\n",
              "0  47116          Stiff Upper Lips  ...   89861         6332\n",
              "1  47642     Dancer, Texas Pop. 81  ...   78373         5463\n",
              "2  47589                 Sardaarji  ...  346081         6588\n",
              "3  45983            One Man's Hero  ...   69848         5770\n",
              "4  45478  The Shawshank Redemption  ...     278         5051\n",
              "5  46567        There Goes My Baby  ...   88641         6051\n",
              "6  46393     The Prisoner of Zenda  ...   43867         5972\n",
              "7  46934             The Godfather  ...     238         5179\n",
              "8  44259                Fight Club  ...     550         4829\n",
              "9  45415          Schindler's List  ...     424         4799\n",
              "\n",
              "[10 rows x 13 columns]"
            ]
          },
          "metadata": {
            "tags": []
          },
          "execution_count": 160
        }
      ]
    },
    {
      "cell_type": "markdown",
      "metadata": {
        "id": "qSwQggV-ny6V"
      },
      "source": [
        "# Director Analysis"
      ]
    },
    {
      "cell_type": "markdown",
      "metadata": {
        "id": "LqNefajjoTqJ"
      },
      "source": [
        "1. Name all the directors with the number of movies and revenue where Revenue should be taken into account for doing the analysis. The director who has the highest revenue should comes at the top and so on and so forth."
      ]
    },
    {
      "cell_type": "code",
      "metadata": {
        "colab": {
          "base_uri": "https://localhost:8080/",
          "height": 361
        },
        "id": "ycrtb4LUmQjD",
        "outputId": "72709320-ad50-42ec-a85e-60c7c0c18fa4"
      },
      "source": [
        "cur.execute(\"SELECT name,COUNT(*) AS 'Total Movies',SUM(revenue) AS 'Total Revenue' FROM  directors JOIN movies WHERE directors.id==movies.director_id GROUP BY director_id ORDER BY SUM(revenue) DESC\")\n",
        "director_revenue=cur.fetchall()\n",
        "director_most_revenue=pd.DataFrame(director_revenue,columns=['Director_Name','Total Movies','Total Revenue'])\n",
        "director_most_revenue.head(10)"
      ],
      "execution_count": null,
      "outputs": [
        {
          "output_type": "execute_result",
          "data": {
            "text/html": [
              "<div>\n",
              "<style scoped>\n",
              "    .dataframe tbody tr th:only-of-type {\n",
              "        vertical-align: middle;\n",
              "    }\n",
              "\n",
              "    .dataframe tbody tr th {\n",
              "        vertical-align: top;\n",
              "    }\n",
              "\n",
              "    .dataframe thead th {\n",
              "        text-align: right;\n",
              "    }\n",
              "</style>\n",
              "<table border=\"1\" class=\"dataframe\">\n",
              "  <thead>\n",
              "    <tr style=\"text-align: right;\">\n",
              "      <th></th>\n",
              "      <th>Director_Name</th>\n",
              "      <th>Total Movies</th>\n",
              "      <th>Total Revenue</th>\n",
              "    </tr>\n",
              "  </thead>\n",
              "  <tbody>\n",
              "    <tr>\n",
              "      <th>0</th>\n",
              "      <td>Steven Spielberg</td>\n",
              "      <td>27</td>\n",
              "      <td>9147393164</td>\n",
              "    </tr>\n",
              "    <tr>\n",
              "      <th>1</th>\n",
              "      <td>Peter Jackson</td>\n",
              "      <td>9</td>\n",
              "      <td>6498642820</td>\n",
              "    </tr>\n",
              "    <tr>\n",
              "      <th>2</th>\n",
              "      <td>James Cameron</td>\n",
              "      <td>7</td>\n",
              "      <td>5883569439</td>\n",
              "    </tr>\n",
              "    <tr>\n",
              "      <th>3</th>\n",
              "      <td>Michael Bay</td>\n",
              "      <td>12</td>\n",
              "      <td>5832524638</td>\n",
              "    </tr>\n",
              "    <tr>\n",
              "      <th>4</th>\n",
              "      <td>Christopher Nolan</td>\n",
              "      <td>8</td>\n",
              "      <td>4227483234</td>\n",
              "    </tr>\n",
              "    <tr>\n",
              "      <th>5</th>\n",
              "      <td>Chris Columbus</td>\n",
              "      <td>11</td>\n",
              "      <td>3725631503</td>\n",
              "    </tr>\n",
              "    <tr>\n",
              "      <th>6</th>\n",
              "      <td>Robert Zemeckis</td>\n",
              "      <td>13</td>\n",
              "      <td>3590622002</td>\n",
              "    </tr>\n",
              "    <tr>\n",
              "      <th>7</th>\n",
              "      <td>George Lucas</td>\n",
              "      <td>5</td>\n",
              "      <td>3339113893</td>\n",
              "    </tr>\n",
              "    <tr>\n",
              "      <th>8</th>\n",
              "      <td>Tim Burton</td>\n",
              "      <td>14</td>\n",
              "      <td>3337418241</td>\n",
              "    </tr>\n",
              "    <tr>\n",
              "      <th>9</th>\n",
              "      <td>Ridley Scott</td>\n",
              "      <td>16</td>\n",
              "      <td>3189557997</td>\n",
              "    </tr>\n",
              "  </tbody>\n",
              "</table>\n",
              "</div>"
            ],
            "text/plain": [
              "       Director_Name  Total Movies  Total Revenue\n",
              "0   Steven Spielberg            27     9147393164\n",
              "1      Peter Jackson             9     6498642820\n",
              "2      James Cameron             7     5883569439\n",
              "3        Michael Bay            12     5832524638\n",
              "4  Christopher Nolan             8     4227483234\n",
              "5     Chris Columbus            11     3725631503\n",
              "6    Robert Zemeckis            13     3590622002\n",
              "7       George Lucas             5     3339113893\n",
              "8         Tim Burton            14     3337418241\n",
              "9       Ridley Scott            16     3189557997"
            ]
          },
          "metadata": {
            "tags": []
          },
          "execution_count": 173
        }
      ]
    },
    {
      "cell_type": "markdown",
      "metadata": {
        "id": "AHBJRfx3qiTy"
      },
      "source": [
        "2. Name all the directors with the number of movies and revenue where number of movies should be taken into account for doing the analysis. The director who has the highest number of movies should comes at the top and so on and so forth."
      ]
    },
    {
      "cell_type": "code",
      "metadata": {
        "colab": {
          "base_uri": "https://localhost:8080/",
          "height": 361
        },
        "id": "onGXXhotmQ9V",
        "outputId": "03a067cd-30ad-4915-c302-6ac512d9d829"
      },
      "source": [
        "cur.execute(\"SELECT name, COUNT(title), SUM(revenue) FROM directors JOIN movies ON movies.director_id = directors.id GROUP by director_id ORDER BY  COUNT(title) DESC LIMIT 10\")\n",
        "director_movies = cur.fetchall()\n",
        "director_most_movies = pd.DataFrame(director_movies,columns=['name','no_of_title','revenue'])\n",
        "director_most_movies"
      ],
      "execution_count": null,
      "outputs": [
        {
          "output_type": "execute_result",
          "data": {
            "text/html": [
              "<div>\n",
              "<style scoped>\n",
              "    .dataframe tbody tr th:only-of-type {\n",
              "        vertical-align: middle;\n",
              "    }\n",
              "\n",
              "    .dataframe tbody tr th {\n",
              "        vertical-align: top;\n",
              "    }\n",
              "\n",
              "    .dataframe thead th {\n",
              "        text-align: right;\n",
              "    }\n",
              "</style>\n",
              "<table border=\"1\" class=\"dataframe\">\n",
              "  <thead>\n",
              "    <tr style=\"text-align: right;\">\n",
              "      <th></th>\n",
              "      <th>name</th>\n",
              "      <th>no_of_title</th>\n",
              "      <th>revenue</th>\n",
              "    </tr>\n",
              "  </thead>\n",
              "  <tbody>\n",
              "    <tr>\n",
              "      <th>0</th>\n",
              "      <td>Steven Spielberg</td>\n",
              "      <td>27</td>\n",
              "      <td>9147393164</td>\n",
              "    </tr>\n",
              "    <tr>\n",
              "      <th>1</th>\n",
              "      <td>Woody Allen</td>\n",
              "      <td>21</td>\n",
              "      <td>669101038</td>\n",
              "    </tr>\n",
              "    <tr>\n",
              "      <th>2</th>\n",
              "      <td>Martin Scorsese</td>\n",
              "      <td>20</td>\n",
              "      <td>1956635998</td>\n",
              "    </tr>\n",
              "    <tr>\n",
              "      <th>3</th>\n",
              "      <td>Clint Eastwood</td>\n",
              "      <td>20</td>\n",
              "      <td>2512058888</td>\n",
              "    </tr>\n",
              "    <tr>\n",
              "      <th>4</th>\n",
              "      <td>Ridley Scott</td>\n",
              "      <td>16</td>\n",
              "      <td>3189557997</td>\n",
              "    </tr>\n",
              "    <tr>\n",
              "      <th>5</th>\n",
              "      <td>Robert Rodriguez</td>\n",
              "      <td>16</td>\n",
              "      <td>1109899581</td>\n",
              "    </tr>\n",
              "    <tr>\n",
              "      <th>6</th>\n",
              "      <td>Spike Lee</td>\n",
              "      <td>16</td>\n",
              "      <td>340618771</td>\n",
              "    </tr>\n",
              "    <tr>\n",
              "      <th>7</th>\n",
              "      <td>Steven Soderbergh</td>\n",
              "      <td>15</td>\n",
              "      <td>2114864443</td>\n",
              "    </tr>\n",
              "    <tr>\n",
              "      <th>8</th>\n",
              "      <td>Renny Harlin</td>\n",
              "      <td>15</td>\n",
              "      <td>1031500590</td>\n",
              "    </tr>\n",
              "    <tr>\n",
              "      <th>9</th>\n",
              "      <td>Tim Burton</td>\n",
              "      <td>14</td>\n",
              "      <td>3337418241</td>\n",
              "    </tr>\n",
              "  </tbody>\n",
              "</table>\n",
              "</div>"
            ],
            "text/plain": [
              "                name  no_of_title     revenue\n",
              "0   Steven Spielberg           27  9147393164\n",
              "1        Woody Allen           21   669101038\n",
              "2    Martin Scorsese           20  1956635998\n",
              "3     Clint Eastwood           20  2512058888\n",
              "4       Ridley Scott           16  3189557997\n",
              "5   Robert Rodriguez           16  1109899581\n",
              "6          Spike Lee           16   340618771\n",
              "7  Steven Soderbergh           15  2114864443\n",
              "8       Renny Harlin           15  1031500590\n",
              "9         Tim Burton           14  3337418241"
            ]
          },
          "metadata": {
            "tags": []
          },
          "execution_count": 175
        }
      ]
    },
    {
      "cell_type": "markdown",
      "metadata": {
        "id": "hnXXhPNBrxe1"
      },
      "source": [
        "3. Give the Title of the movie, realease_date, budget, revenue, popularity and vote_average made by Steven Spielberg"
      ]
    },
    {
      "cell_type": "code",
      "metadata": {
        "colab": {
          "base_uri": "https://localhost:8080/",
          "height": 924
        },
        "id": "PtxFOJWHqsY3",
        "outputId": "ff1cb3ad-cfaa-4e94-94c6-8c813a6e34e8"
      },
      "source": [
        "cur.execute(\"SELECT title, release_date,budget,revenue,popularity,vote_average FROM directors JOIN movies ON directors.id==movies.director_id WHERE directors.name=='Steven Spielberg'\")\n",
        "movies_list=cur.fetchall()\n",
        "movies_list_Steven_Spielberg=pd.DataFrame(movies_list,columns=['Movie_Name','Release_Date','Total Budget','Total_Revenue','Popularity','Vote_Average'])\n",
        "movies_list_Steven_Spielberg"
      ],
      "execution_count": null,
      "outputs": [
        {
          "output_type": "execute_result",
          "data": {
            "text/html": [
              "<div>\n",
              "<style scoped>\n",
              "    .dataframe tbody tr th:only-of-type {\n",
              "        vertical-align: middle;\n",
              "    }\n",
              "\n",
              "    .dataframe tbody tr th {\n",
              "        vertical-align: top;\n",
              "    }\n",
              "\n",
              "    .dataframe thead th {\n",
              "        text-align: right;\n",
              "    }\n",
              "</style>\n",
              "<table border=\"1\" class=\"dataframe\">\n",
              "  <thead>\n",
              "    <tr style=\"text-align: right;\">\n",
              "      <th></th>\n",
              "      <th>Movie_Name</th>\n",
              "      <th>Release_Date</th>\n",
              "      <th>Total Budget</th>\n",
              "      <th>Total_Revenue</th>\n",
              "      <th>Popularity</th>\n",
              "      <th>Vote_Average</th>\n",
              "    </tr>\n",
              "  </thead>\n",
              "  <tbody>\n",
              "    <tr>\n",
              "      <th>0</th>\n",
              "      <td>Indiana Jones and the Kingdom of the Crystal S...</td>\n",
              "      <td>2008-05-21</td>\n",
              "      <td>185000000</td>\n",
              "      <td>786636033</td>\n",
              "      <td>75</td>\n",
              "      <td>5.7</td>\n",
              "    </tr>\n",
              "    <tr>\n",
              "      <th>1</th>\n",
              "      <td>The BFG</td>\n",
              "      <td>2016-06-01</td>\n",
              "      <td>140000000</td>\n",
              "      <td>183345589</td>\n",
              "      <td>44</td>\n",
              "      <td>6.0</td>\n",
              "    </tr>\n",
              "    <tr>\n",
              "      <th>2</th>\n",
              "      <td>War of the Worlds</td>\n",
              "      <td>2005-06-28</td>\n",
              "      <td>132000000</td>\n",
              "      <td>591739379</td>\n",
              "      <td>48</td>\n",
              "      <td>6.2</td>\n",
              "    </tr>\n",
              "    <tr>\n",
              "      <th>3</th>\n",
              "      <td>The Adventures of Tintin</td>\n",
              "      <td>2011-10-25</td>\n",
              "      <td>130000000</td>\n",
              "      <td>371940071</td>\n",
              "      <td>89</td>\n",
              "      <td>6.7</td>\n",
              "    </tr>\n",
              "    <tr>\n",
              "      <th>4</th>\n",
              "      <td>Minority Report</td>\n",
              "      <td>2002-06-20</td>\n",
              "      <td>102000000</td>\n",
              "      <td>358372926</td>\n",
              "      <td>65</td>\n",
              "      <td>7.1</td>\n",
              "    </tr>\n",
              "    <tr>\n",
              "      <th>5</th>\n",
              "      <td>A.I. Artificial Intelligence</td>\n",
              "      <td>2001-06-29</td>\n",
              "      <td>100000000</td>\n",
              "      <td>235926552</td>\n",
              "      <td>34</td>\n",
              "      <td>6.8</td>\n",
              "    </tr>\n",
              "    <tr>\n",
              "      <th>6</th>\n",
              "      <td>The Lost World: Jurassic Park</td>\n",
              "      <td>1997-05-23</td>\n",
              "      <td>73000000</td>\n",
              "      <td>229074524</td>\n",
              "      <td>2</td>\n",
              "      <td>6.2</td>\n",
              "    </tr>\n",
              "    <tr>\n",
              "      <th>7</th>\n",
              "      <td>The Terminal</td>\n",
              "      <td>2004-06-17</td>\n",
              "      <td>60000000</td>\n",
              "      <td>219417255</td>\n",
              "      <td>57</td>\n",
              "      <td>7.0</td>\n",
              "    </tr>\n",
              "    <tr>\n",
              "      <th>8</th>\n",
              "      <td>Munich</td>\n",
              "      <td>2005-12-22</td>\n",
              "      <td>70000000</td>\n",
              "      <td>130358911</td>\n",
              "      <td>29</td>\n",
              "      <td>6.9</td>\n",
              "    </tr>\n",
              "    <tr>\n",
              "      <th>9</th>\n",
              "      <td>Hook</td>\n",
              "      <td>1991-12-11</td>\n",
              "      <td>70000000</td>\n",
              "      <td>300854823</td>\n",
              "      <td>33</td>\n",
              "      <td>6.6</td>\n",
              "    </tr>\n",
              "    <tr>\n",
              "      <th>10</th>\n",
              "      <td>War Horse</td>\n",
              "      <td>2011-12-25</td>\n",
              "      <td>66000000</td>\n",
              "      <td>177584879</td>\n",
              "      <td>29</td>\n",
              "      <td>7.0</td>\n",
              "    </tr>\n",
              "    <tr>\n",
              "      <th>11</th>\n",
              "      <td>Saving Private Ryan</td>\n",
              "      <td>1998-07-24</td>\n",
              "      <td>70000000</td>\n",
              "      <td>481840909</td>\n",
              "      <td>76</td>\n",
              "      <td>7.9</td>\n",
              "    </tr>\n",
              "    <tr>\n",
              "      <th>12</th>\n",
              "      <td>Lincoln</td>\n",
              "      <td>2012-11-09</td>\n",
              "      <td>65000000</td>\n",
              "      <td>275293450</td>\n",
              "      <td>36</td>\n",
              "      <td>6.7</td>\n",
              "    </tr>\n",
              "    <tr>\n",
              "      <th>13</th>\n",
              "      <td>Jurassic Park</td>\n",
              "      <td>1993-06-11</td>\n",
              "      <td>63000000</td>\n",
              "      <td>920100000</td>\n",
              "      <td>40</td>\n",
              "      <td>7.6</td>\n",
              "    </tr>\n",
              "    <tr>\n",
              "      <th>14</th>\n",
              "      <td>Catch Me If You Can</td>\n",
              "      <td>2002-12-25</td>\n",
              "      <td>52000000</td>\n",
              "      <td>352114312</td>\n",
              "      <td>73</td>\n",
              "      <td>7.7</td>\n",
              "    </tr>\n",
              "    <tr>\n",
              "      <th>15</th>\n",
              "      <td>Indiana Jones and the Last Crusade</td>\n",
              "      <td>1989-05-24</td>\n",
              "      <td>48000000</td>\n",
              "      <td>474171806</td>\n",
              "      <td>80</td>\n",
              "      <td>7.6</td>\n",
              "    </tr>\n",
              "    <tr>\n",
              "      <th>16</th>\n",
              "      <td>Bridge of Spies</td>\n",
              "      <td>2015-10-15</td>\n",
              "      <td>40000000</td>\n",
              "      <td>165478348</td>\n",
              "      <td>48</td>\n",
              "      <td>7.2</td>\n",
              "    </tr>\n",
              "    <tr>\n",
              "      <th>17</th>\n",
              "      <td>Amistad</td>\n",
              "      <td>1997-12-03</td>\n",
              "      <td>36000000</td>\n",
              "      <td>74000000</td>\n",
              "      <td>3</td>\n",
              "      <td>6.8</td>\n",
              "    </tr>\n",
              "    <tr>\n",
              "      <th>18</th>\n",
              "      <td>1941</td>\n",
              "      <td>1979-12-13</td>\n",
              "      <td>35000000</td>\n",
              "      <td>31755742</td>\n",
              "      <td>10</td>\n",
              "      <td>5.6</td>\n",
              "    </tr>\n",
              "    <tr>\n",
              "      <th>19</th>\n",
              "      <td>Indiana Jones and the Temple of Doom</td>\n",
              "      <td>1984-05-23</td>\n",
              "      <td>28000000</td>\n",
              "      <td>333000000</td>\n",
              "      <td>66</td>\n",
              "      <td>7.1</td>\n",
              "    </tr>\n",
              "    <tr>\n",
              "      <th>20</th>\n",
              "      <td>Schindler's List</td>\n",
              "      <td>1993-11-29</td>\n",
              "      <td>22000000</td>\n",
              "      <td>321365567</td>\n",
              "      <td>104</td>\n",
              "      <td>8.3</td>\n",
              "    </tr>\n",
              "    <tr>\n",
              "      <th>21</th>\n",
              "      <td>Raiders of the Lost Ark</td>\n",
              "      <td>1981-06-12</td>\n",
              "      <td>18000000</td>\n",
              "      <td>389925971</td>\n",
              "      <td>68</td>\n",
              "      <td>7.7</td>\n",
              "    </tr>\n",
              "    <tr>\n",
              "      <th>22</th>\n",
              "      <td>Close Encounters of the Third Kind</td>\n",
              "      <td>1977-11-16</td>\n",
              "      <td>20000000</td>\n",
              "      <td>303788635</td>\n",
              "      <td>52</td>\n",
              "      <td>7.2</td>\n",
              "    </tr>\n",
              "    <tr>\n",
              "      <th>23</th>\n",
              "      <td>The Color Purple</td>\n",
              "      <td>1985-12-18</td>\n",
              "      <td>15000000</td>\n",
              "      <td>146292009</td>\n",
              "      <td>17</td>\n",
              "      <td>7.7</td>\n",
              "    </tr>\n",
              "    <tr>\n",
              "      <th>24</th>\n",
              "      <td>Jaws</td>\n",
              "      <td>1975-06-18</td>\n",
              "      <td>7000000</td>\n",
              "      <td>470654000</td>\n",
              "      <td>50</td>\n",
              "      <td>7.5</td>\n",
              "    </tr>\n",
              "    <tr>\n",
              "      <th>25</th>\n",
              "      <td>E.T. the Extra-Terrestrial</td>\n",
              "      <td>1982-04-03</td>\n",
              "      <td>10500000</td>\n",
              "      <td>792910554</td>\n",
              "      <td>56</td>\n",
              "      <td>7.3</td>\n",
              "    </tr>\n",
              "    <tr>\n",
              "      <th>26</th>\n",
              "      <td>Twilight Zone: The Movie</td>\n",
              "      <td>1983-06-24</td>\n",
              "      <td>10000000</td>\n",
              "      <td>29450919</td>\n",
              "      <td>12</td>\n",
              "      <td>6.2</td>\n",
              "    </tr>\n",
              "  </tbody>\n",
              "</table>\n",
              "</div>"
            ],
            "text/plain": [
              "                                           Movie_Name  ... Vote_Average\n",
              "0   Indiana Jones and the Kingdom of the Crystal S...  ...          5.7\n",
              "1                                             The BFG  ...          6.0\n",
              "2                                   War of the Worlds  ...          6.2\n",
              "3                            The Adventures of Tintin  ...          6.7\n",
              "4                                     Minority Report  ...          7.1\n",
              "5                        A.I. Artificial Intelligence  ...          6.8\n",
              "6                       The Lost World: Jurassic Park  ...          6.2\n",
              "7                                        The Terminal  ...          7.0\n",
              "8                                              Munich  ...          6.9\n",
              "9                                                Hook  ...          6.6\n",
              "10                                          War Horse  ...          7.0\n",
              "11                                Saving Private Ryan  ...          7.9\n",
              "12                                            Lincoln  ...          6.7\n",
              "13                                      Jurassic Park  ...          7.6\n",
              "14                                Catch Me If You Can  ...          7.7\n",
              "15                 Indiana Jones and the Last Crusade  ...          7.6\n",
              "16                                    Bridge of Spies  ...          7.2\n",
              "17                                            Amistad  ...          6.8\n",
              "18                                               1941  ...          5.6\n",
              "19               Indiana Jones and the Temple of Doom  ...          7.1\n",
              "20                                   Schindler's List  ...          8.3\n",
              "21                            Raiders of the Lost Ark  ...          7.7\n",
              "22                 Close Encounters of the Third Kind  ...          7.2\n",
              "23                                   The Color Purple  ...          7.7\n",
              "24                                               Jaws  ...          7.5\n",
              "25                         E.T. the Extra-Terrestrial  ...          7.3\n",
              "26                           Twilight Zone: The Movie  ...          6.2\n",
              "\n",
              "[27 rows x 6 columns]"
            ]
          },
          "metadata": {
            "tags": []
          },
          "execution_count": 180
        }
      ]
    }
  ]
}